{
 "cells": [
  {
   "cell_type": "markdown",
   "metadata": {
    "heading_collapsed": true
   },
   "source": [
    "# Imports"
   ]
  },
  {
   "cell_type": "code",
   "execution_count": 1,
   "metadata": {
    "hidden": true
   },
   "outputs": [
    {
     "name": "stderr",
     "output_type": "stream",
     "text": [
      "Using TensorFlow backend.\n",
      "/home/rhermoza/anaconda3/envs/ml/lib/python3.6/importlib/_bootstrap.py:219: RuntimeWarning: compiletime version 3.5 of module 'tensorflow.python.framework.fast_tensor_util' does not match runtime version 3.6\n",
      "  return f(*args, **kwds)\n"
     ]
    }
   ],
   "source": [
    "import os, keras, math\n",
    "import numpy as np\n",
    "import matplotlib.pyplot as plt\n",
    "from time import time\n",
    "from PIL import Image\n",
    "from keras.models import Sequential, Model\n",
    "from keras.layers import Dense, Flatten, Dropout, UpSampling2D, Input, Concatenate, Add\n",
    "from keras.layers import BatchNormalization, Activation, Conv2D, MaxPool2D\n",
    "from keras.layers import GlobalAvgPool2D, GlobalMaxPool2D, Reshape, Multiply\n",
    "from keras.optimizers import Adam, RMSprop, SGD\n",
    "from keras.regularizers import l2\n",
    "import keras.backend as K\n",
    "from skopt import gp_minimize\n",
    "from skopt.plots import plot_convergence, plot_evaluations, plot_objective\n",
    "\n",
    "%matplotlib inline"
   ]
  },
  {
   "cell_type": "markdown",
   "metadata": {
    "heading_collapsed": true
   },
   "source": [
    "# 1 Load data"
   ]
  },
  {
   "cell_type": "code",
   "execution_count": 95,
   "metadata": {
    "hidden": true
   },
   "outputs": [],
   "source": [
    "SPLIT_VALIDATION = False"
   ]
  },
  {
   "cell_type": "code",
   "execution_count": 96,
   "metadata": {
    "hidden": true
   },
   "outputs": [],
   "source": [
    "def get_cv_idxs(n, cv_idx=0, val_pct=0.2, seed=42):\n",
    "    np.random.seed(seed)\n",
    "    n_val = int(val_pct*n) if SPLIT_VALIDATION else 1\n",
    "    idx_start = cv_idx*n_val\n",
    "    idxs = np.random.permutation(n)\n",
    "    return idxs[idx_start:idx_start+n_val]\n",
    "\n",
    "def split_by_idx(idxs, *a):\n",
    "    mask = np.zeros(len(a[0]),dtype=bool)\n",
    "    mask[np.array(idxs)] = True\n",
    "    return [(o[mask],o[~mask]) for o in a]\n",
    "\n",
    "path = '/home/rhermoza/data/kaggle/statoil/'\n",
    "train_data = np.load(path+'train.npy').item()\n",
    "\n",
    "val_idxs = get_cv_idxs(train_data['x_imgs'].shape[0])\n",
    "(x_val_a, x_train_a), (x_val_b, x_train_b), (y_val, y_train) = \\\n",
    "    split_by_idx(val_idxs, train_data['x_imgs'], train_data['x_angle'], train_data['y'])"
   ]
  },
  {
   "cell_type": "markdown",
   "metadata": {
    "hidden": true
   },
   "source": [
    "## Preprocess"
   ]
  },
  {
   "cell_type": "code",
   "execution_count": 97,
   "metadata": {
    "hidden": true
   },
   "outputs": [],
   "source": [
    "pp_mean = x_train_a.mean((0,1,2))\n",
    "pp_std = x_train_a.std((0,1,2))\n",
    "\n",
    "def preprocess(x): return (x-pp_mean)/pp_std\n",
    "x_val_a, x_train_a = preprocess(x_val_a), preprocess(x_train_a)"
   ]
  },
  {
   "cell_type": "code",
   "execution_count": 98,
   "metadata": {
    "hidden": true
   },
   "outputs": [
    {
     "data": {
      "text/plain": [
       "[(0.10723561, 1.0014637), (0.85459477, 0.67132771)]"
      ]
     },
     "execution_count": 98,
     "metadata": {},
     "output_type": "execute_result"
    }
   ],
   "source": [
    "[(x.mean(), x.std()) for x in [x_train_a, x_val_a]]"
   ]
  },
  {
   "cell_type": "markdown",
   "metadata": {
    "hidden": true
   },
   "source": [
    "## Params"
   ]
  },
  {
   "cell_type": "code",
   "execution_count": 99,
   "metadata": {
    "hidden": true
   },
   "outputs": [],
   "source": [
    "img_size = 75\n",
    "bs = 128"
   ]
  },
  {
   "cell_type": "markdown",
   "metadata": {
    "heading_collapsed": true,
    "hidden": true
   },
   "source": [
    "## Augmentation"
   ]
  },
  {
   "cell_type": "code",
   "execution_count": 100,
   "metadata": {
    "hidden": true
   },
   "outputs": [],
   "source": [
    "x_train_a = np.vstack([x_train_a, x_train_a[:,::-1], x_train_a[:,:,::-1], x_train_a[:,::-1,::-1]])\n",
    "x_train_b = np.concatenate([x_train_b]*4)\n",
    "y_train = np.concatenate([y_train]*4)"
   ]
  },
  {
   "cell_type": "code",
   "execution_count": 101,
   "metadata": {
    "hidden": true
   },
   "outputs": [
    {
     "data": {
      "image/png": "[encoded data removed]",
      "text/plain": [
       "<matplotlib.figure.Figure at 0x7ff332621da0>"
      ]
     },
     "metadata": {},
     "output_type": "display_data"
    }
   ],
   "source": [
    "def plot_img(x):\n",
    "    img = (x-x_train_a.min())/(x_train_a.max()-x_train_a.min())\n",
    "    t = np.mean(img, -1)[...,None]\n",
    "    img = np.concatenate([img, t], -1)\n",
    "    plt.imshow(img)\n",
    "    plt.axis('off')\n",
    "\n",
    "plot_img(x_train_a[np.random.choice(len(y_train))])"
   ]
  },
  {
   "cell_type": "code",
   "execution_count": 102,
   "metadata": {
    "hidden": true
   },
   "outputs": [
    {
     "data": {
      "text/plain": [
       "([(6412, 75, 75, 2), (6412, 1)], [(1, 75, 75, 2), (1, 1)])"
      ]
     },
     "execution_count": 102,
     "metadata": {},
     "output_type": "execute_result"
    }
   ],
   "source": [
    "def fix_dims(x): return x.astype(np.float32).reshape((-1,1))\n",
    "\n",
    "x_val_b, x_train_b, y_val, y_train = [fix_dims(x) for x in [x_val_b, x_train_b, y_val, y_train]]\n",
    "x_train = [x_train_a, x_train_b]\n",
    "x_val = [x_val_a, x_val_b]\n",
    "[x.shape for x in x_train], [x.shape for x in x_val]"
   ]
  },
  {
   "cell_type": "markdown",
   "metadata": {
    "heading_collapsed": true
   },
   "source": [
    "# 2. Build Model"
   ]
  },
  {
   "cell_type": "code",
   "execution_count": 10,
   "metadata": {
    "hidden": true
   },
   "outputs": [],
   "source": [
    "def conv_layer(x, f, k=3, s=2, p='same', bn=True, d=0, reg=l2(0)):\n",
    "    out = Dropout(d)(x)\n",
    "    out = Conv2D(f, k, strides=s, padding=p, use_bias=False,\n",
    "                 kernel_initializer='he_uniform', activation='relu',\n",
    "                 kernel_regularizer=reg)(x)\n",
    "    if bn: out = BatchNormalization()(out)\n",
    "    return out\n",
    "\n",
    "def res_layer(x, f, reg=l2(0)):\n",
    "    se_ratio = 16\n",
    "    out = conv_layer(x, f, s=1, reg=reg)\n",
    "    # squeeze and excite\n",
    "    out_se = GlobalAvgPool2D()(out)\n",
    "    r = f // se_ratio if (f // se_ratio) > 0 else 1\n",
    "    out_se = Reshape((1, f))(out_se)\n",
    "    out_se = Dense(r, use_bias=False, kernel_initializer='he_uniform', activation='relu',\n",
    "                   kernel_regularizer=reg, bias_regularizer=reg)(out_se)\n",
    "    out_se = Dense(f, use_bias=False, activation='sigmoid',\n",
    "                   kernel_regularizer=reg, bias_regularizer=reg)(out_se)\n",
    "    out = Multiply()([out, out_se])\n",
    "    # residual\n",
    "    out = Add()([x, out])\n",
    "    return out\n",
    "    \n",
    "def res_block(x, f, reg=l2(0)):\n",
    "    l1 = conv_layer(x, f, reg=reg)\n",
    "    l2 = res_layer(l1, f, reg)\n",
    "    l3 = res_layer(l2, f, reg)\n",
    "    return l3\n",
    "\n",
    "def dense_layer(x, h, bn=True, act='relu', d=0, reg=l2(0)):\n",
    "    out = Dropout(d)(x)\n",
    "    k_init = 'he_uniform' if act == 'relu' else 'glorot_uniform'\n",
    "    out = Dense(h, kernel_initializer=k_init, activation=act,\n",
    "                kernel_regularizer=reg, bias_regularizer=reg)(x)\n",
    "    if bn: out = BatchNormalization()(out)\n",
    "    return out\n",
    "\n",
    "def build_model(data_l=[16], conv_l=[16,32,64,128,256], cat_l=[256],\n",
    "                data_d=[0], conv_d=[0.25], cat_d=[0.5],\n",
    "                opt='RMSprop', reg=5e-6):\n",
    "    x_a = Input((75,75,2))\n",
    "    x_b = Input((1,))\n",
    "    l2reg =l2(reg)\n",
    "\n",
    "    # data layers\n",
    "    x_data = BatchNormalization()(x_b)\n",
    "    for h,d in zip(data_l, data_d):\n",
    "        x_data = dense_layer(x_data, h, d=d, reg=l2reg)\n",
    "        \n",
    "    # conv_layers\n",
    "    x_conv = conv_layer(x_a, 16, 5, 1, reg=l2reg)\n",
    "    if len(conv_d) == 1: conv_d = conv_d*len(conv_l)\n",
    "    for i,h,d in zip(range(len(conv_l)), conv_l, conv_d):\n",
    "        x_conv = Dropout(d)(x_conv)\n",
    "        x_conv = res_block(x_conv, h, reg=l2reg)\n",
    "        \n",
    "    # cat layers\n",
    "    x_dense = Concatenate()([GlobalAvgPool2D()(x_conv), GlobalMaxPool2D()(x_conv)])\n",
    "    out = Concatenate()([x_dense, x_data])\n",
    "    for h,d in zip(cat_l, cat_d):\n",
    "        out = dense_layer(out, h, d=d, reg=l2reg)\n",
    "    \n",
    "    out = dense_layer(out, 1, False, 'sigmoid', reg=l2reg)\n",
    "\n",
    "    model = Model([x_a, x_b], out)\n",
    "    model.compile(opt, loss='binary_crossentropy', metrics=['accuracy'])\n",
    "    \n",
    "    return model"
   ]
  },
  {
   "cell_type": "code",
   "execution_count": 11,
   "metadata": {
    "hidden": true,
    "scrolled": true
   },
   "outputs": [
    {
     "name": "stdout",
     "output_type": "stream",
     "text": [
      "__________________________________________________________________________________________________\n",
      "Layer (type)                    Output Shape         Param #     Connected to                     \n",
      "==================================================================================================\n",
      "input_1 (InputLayer)            (None, 75, 75, 2)    0                                            \n",
      "__________________________________________________________________________________________________\n",
      "conv2d_1 (Conv2D)               (None, 75, 75, 16)   800         input_1[0][0]                    \n",
      "__________________________________________________________________________________________________\n",
      "batch_normalization_3 (BatchNor (None, 75, 75, 16)   64          conv2d_1[0][0]                   \n",
      "__________________________________________________________________________________________________\n",
      "dropout_3 (Dropout)             (None, 75, 75, 16)   0           batch_normalization_3[0][0]      \n",
      "__________________________________________________________________________________________________\n",
      "conv2d_2 (Conv2D)               (None, 38, 38, 16)   2304        dropout_3[0][0]                  \n",
      "__________________________________________________________________________________________________\n",
      "batch_normalization_4 (BatchNor (None, 38, 38, 16)   64          conv2d_2[0][0]                   \n",
      "__________________________________________________________________________________________________\n",
      "conv2d_3 (Conv2D)               (None, 38, 38, 16)   2304        batch_normalization_4[0][0]      \n",
      "__________________________________________________________________________________________________\n",
      "batch_normalization_5 (BatchNor (None, 38, 38, 16)   64          conv2d_3[0][0]                   \n",
      "__________________________________________________________________________________________________\n",
      "global_average_pooling2d_1 (Glo (None, 16)           0           batch_normalization_5[0][0]      \n",
      "__________________________________________________________________________________________________\n",
      "reshape_1 (Reshape)             (None, 1, 16)        0           global_average_pooling2d_1[0][0] \n",
      "__________________________________________________________________________________________________\n",
      "dense_2 (Dense)                 (None, 1, 1)         16          reshape_1[0][0]                  \n",
      "__________________________________________________________________________________________________\n",
      "dense_3 (Dense)                 (None, 1, 16)        16          dense_2[0][0]                    \n",
      "__________________________________________________________________________________________________\n",
      "multiply_1 (Multiply)           (None, 38, 38, 16)   0           batch_normalization_5[0][0]      \n",
      "                                                                 dense_3[0][0]                    \n",
      "__________________________________________________________________________________________________\n",
      "add_1 (Add)                     (None, 38, 38, 16)   0           batch_normalization_4[0][0]      \n",
      "                                                                 multiply_1[0][0]                 \n",
      "__________________________________________________________________________________________________\n",
      "conv2d_4 (Conv2D)               (None, 38, 38, 16)   2304        add_1[0][0]                      \n",
      "__________________________________________________________________________________________________\n",
      "batch_normalization_6 (BatchNor (None, 38, 38, 16)   64          conv2d_4[0][0]                   \n",
      "__________________________________________________________________________________________________\n",
      "global_average_pooling2d_2 (Glo (None, 16)           0           batch_normalization_6[0][0]      \n",
      "__________________________________________________________________________________________________\n",
      "reshape_2 (Reshape)             (None, 1, 16)        0           global_average_pooling2d_2[0][0] \n",
      "__________________________________________________________________________________________________\n",
      "dense_4 (Dense)                 (None, 1, 1)         16          reshape_2[0][0]                  \n",
      "__________________________________________________________________________________________________\n",
      "dense_5 (Dense)                 (None, 1, 16)        16          dense_4[0][0]                    \n",
      "__________________________________________________________________________________________________\n",
      "multiply_2 (Multiply)           (None, 38, 38, 16)   0           batch_normalization_6[0][0]      \n",
      "                                                                 dense_5[0][0]                    \n",
      "__________________________________________________________________________________________________\n",
      "add_2 (Add)                     (None, 38, 38, 16)   0           add_1[0][0]                      \n",
      "                                                                 multiply_2[0][0]                 \n",
      "__________________________________________________________________________________________________\n",
      "dropout_7 (Dropout)             (None, 38, 38, 16)   0           add_2[0][0]                      \n",
      "__________________________________________________________________________________________________\n",
      "conv2d_5 (Conv2D)               (None, 19, 19, 32)   4608        dropout_7[0][0]                  \n",
      "__________________________________________________________________________________________________\n",
      "batch_normalization_7 (BatchNor (None, 19, 19, 32)   128         conv2d_5[0][0]                   \n",
      "__________________________________________________________________________________________________\n",
      "conv2d_6 (Conv2D)               (None, 19, 19, 32)   9216        batch_normalization_7[0][0]      \n",
      "__________________________________________________________________________________________________\n",
      "batch_normalization_8 (BatchNor (None, 19, 19, 32)   128         conv2d_6[0][0]                   \n",
      "__________________________________________________________________________________________________\n",
      "global_average_pooling2d_3 (Glo (None, 32)           0           batch_normalization_8[0][0]      \n",
      "__________________________________________________________________________________________________\n",
      "reshape_3 (Reshape)             (None, 1, 32)        0           global_average_pooling2d_3[0][0] \n",
      "__________________________________________________________________________________________________\n",
      "dense_6 (Dense)                 (None, 1, 2)         64          reshape_3[0][0]                  \n",
      "__________________________________________________________________________________________________\n",
      "dense_7 (Dense)                 (None, 1, 32)        64          dense_6[0][0]                    \n",
      "__________________________________________________________________________________________________\n",
      "multiply_3 (Multiply)           (None, 19, 19, 32)   0           batch_normalization_8[0][0]      \n",
      "                                                                 dense_7[0][0]                    \n",
      "__________________________________________________________________________________________________\n",
      "add_3 (Add)                     (None, 19, 19, 32)   0           batch_normalization_7[0][0]      \n",
      "                                                                 multiply_3[0][0]                 \n",
      "__________________________________________________________________________________________________\n",
      "conv2d_7 (Conv2D)               (None, 19, 19, 32)   9216        add_3[0][0]                      \n",
      "__________________________________________________________________________________________________\n",
      "batch_normalization_9 (BatchNor (None, 19, 19, 32)   128         conv2d_7[0][0]                   \n",
      "__________________________________________________________________________________________________\n",
      "global_average_pooling2d_4 (Glo (None, 32)           0           batch_normalization_9[0][0]      \n",
      "__________________________________________________________________________________________________\n",
      "reshape_4 (Reshape)             (None, 1, 32)        0           global_average_pooling2d_4[0][0] \n",
      "__________________________________________________________________________________________________\n",
      "dense_8 (Dense)                 (None, 1, 2)         64          reshape_4[0][0]                  \n",
      "__________________________________________________________________________________________________\n",
      "dense_9 (Dense)                 (None, 1, 32)        64          dense_8[0][0]                    \n",
      "__________________________________________________________________________________________________\n",
      "multiply_4 (Multiply)           (None, 19, 19, 32)   0           batch_normalization_9[0][0]      \n",
      "                                                                 dense_9[0][0]                    \n",
      "__________________________________________________________________________________________________\n",
      "add_4 (Add)                     (None, 19, 19, 32)   0           add_3[0][0]                      \n",
      "                                                                 multiply_4[0][0]                 \n",
      "__________________________________________________________________________________________________\n",
      "dropout_11 (Dropout)            (None, 19, 19, 32)   0           add_4[0][0]                      \n",
      "__________________________________________________________________________________________________\n",
      "conv2d_8 (Conv2D)               (None, 10, 10, 64)   18432       dropout_11[0][0]                 \n",
      "__________________________________________________________________________________________________\n",
      "batch_normalization_10 (BatchNo (None, 10, 10, 64)   256         conv2d_8[0][0]                   \n",
      "__________________________________________________________________________________________________\n",
      "conv2d_9 (Conv2D)               (None, 10, 10, 64)   36864       batch_normalization_10[0][0]     \n",
      "__________________________________________________________________________________________________\n",
      "batch_normalization_11 (BatchNo (None, 10, 10, 64)   256         conv2d_9[0][0]                   \n",
      "__________________________________________________________________________________________________\n",
      "global_average_pooling2d_5 (Glo (None, 64)           0           batch_normalization_11[0][0]     \n",
      "__________________________________________________________________________________________________\n",
      "reshape_5 (Reshape)             (None, 1, 64)        0           global_average_pooling2d_5[0][0] \n",
      "__________________________________________________________________________________________________\n",
      "dense_10 (Dense)                (None, 1, 4)         256         reshape_5[0][0]                  \n",
      "__________________________________________________________________________________________________\n",
      "dense_11 (Dense)                (None, 1, 64)        256         dense_10[0][0]                   \n",
      "__________________________________________________________________________________________________\n",
      "multiply_5 (Multiply)           (None, 10, 10, 64)   0           batch_normalization_11[0][0]     \n",
      "                                                                 dense_11[0][0]                   \n",
      "__________________________________________________________________________________________________\n",
      "add_5 (Add)                     (None, 10, 10, 64)   0           batch_normalization_10[0][0]     \n",
      "                                                                 multiply_5[0][0]                 \n",
      "__________________________________________________________________________________________________\n",
      "conv2d_10 (Conv2D)              (None, 10, 10, 64)   36864       add_5[0][0]                      \n",
      "__________________________________________________________________________________________________\n",
      "batch_normalization_12 (BatchNo (None, 10, 10, 64)   256         conv2d_10[0][0]                  \n",
      "__________________________________________________________________________________________________\n",
      "global_average_pooling2d_6 (Glo (None, 64)           0           batch_normalization_12[0][0]     \n",
      "__________________________________________________________________________________________________\n",
      "reshape_6 (Reshape)             (None, 1, 64)        0           global_average_pooling2d_6[0][0] \n",
      "__________________________________________________________________________________________________\n",
      "dense_12 (Dense)                (None, 1, 4)         256         reshape_6[0][0]                  \n",
      "__________________________________________________________________________________________________\n",
      "dense_13 (Dense)                (None, 1, 64)        256         dense_12[0][0]                   \n",
      "__________________________________________________________________________________________________\n",
      "multiply_6 (Multiply)           (None, 10, 10, 64)   0           batch_normalization_12[0][0]     \n",
      "                                                                 dense_13[0][0]                   \n",
      "__________________________________________________________________________________________________\n",
      "add_6 (Add)                     (None, 10, 10, 64)   0           add_5[0][0]                      \n",
      "                                                                 multiply_6[0][0]                 \n",
      "__________________________________________________________________________________________________\n",
      "dropout_15 (Dropout)            (None, 10, 10, 64)   0           add_6[0][0]                      \n",
      "__________________________________________________________________________________________________\n",
      "conv2d_11 (Conv2D)              (None, 5, 5, 128)    73728       dropout_15[0][0]                 \n",
      "__________________________________________________________________________________________________\n",
      "batch_normalization_13 (BatchNo (None, 5, 5, 128)    512         conv2d_11[0][0]                  \n",
      "__________________________________________________________________________________________________\n",
      "conv2d_12 (Conv2D)              (None, 5, 5, 128)    147456      batch_normalization_13[0][0]     \n",
      "__________________________________________________________________________________________________\n",
      "batch_normalization_14 (BatchNo (None, 5, 5, 128)    512         conv2d_12[0][0]                  \n",
      "__________________________________________________________________________________________________\n",
      "global_average_pooling2d_7 (Glo (None, 128)          0           batch_normalization_14[0][0]     \n",
      "__________________________________________________________________________________________________\n",
      "reshape_7 (Reshape)             (None, 1, 128)       0           global_average_pooling2d_7[0][0] \n",
      "__________________________________________________________________________________________________\n",
      "dense_14 (Dense)                (None, 1, 8)         1024        reshape_7[0][0]                  \n",
      "__________________________________________________________________________________________________\n",
      "dense_15 (Dense)                (None, 1, 128)       1024        dense_14[0][0]                   \n",
      "__________________________________________________________________________________________________\n",
      "multiply_7 (Multiply)           (None, 5, 5, 128)    0           batch_normalization_14[0][0]     \n",
      "                                                                 dense_15[0][0]                   \n",
      "__________________________________________________________________________________________________\n",
      "add_7 (Add)                     (None, 5, 5, 128)    0           batch_normalization_13[0][0]     \n",
      "                                                                 multiply_7[0][0]                 \n",
      "__________________________________________________________________________________________________\n",
      "conv2d_13 (Conv2D)              (None, 5, 5, 128)    147456      add_7[0][0]                      \n",
      "__________________________________________________________________________________________________\n",
      "batch_normalization_15 (BatchNo (None, 5, 5, 128)    512         conv2d_13[0][0]                  \n",
      "__________________________________________________________________________________________________\n",
      "global_average_pooling2d_8 (Glo (None, 128)          0           batch_normalization_15[0][0]     \n",
      "__________________________________________________________________________________________________\n",
      "reshape_8 (Reshape)             (None, 1, 128)       0           global_average_pooling2d_8[0][0] \n",
      "__________________________________________________________________________________________________\n",
      "dense_16 (Dense)                (None, 1, 8)         1024        reshape_8[0][0]                  \n",
      "__________________________________________________________________________________________________\n",
      "dense_17 (Dense)                (None, 1, 128)       1024        dense_16[0][0]                   \n",
      "__________________________________________________________________________________________________\n",
      "multiply_8 (Multiply)           (None, 5, 5, 128)    0           batch_normalization_15[0][0]     \n",
      "                                                                 dense_17[0][0]                   \n",
      "__________________________________________________________________________________________________\n",
      "add_8 (Add)                     (None, 5, 5, 128)    0           add_7[0][0]                      \n",
      "                                                                 multiply_8[0][0]                 \n",
      "__________________________________________________________________________________________________\n",
      "dropout_19 (Dropout)            (None, 5, 5, 128)    0           add_8[0][0]                      \n",
      "__________________________________________________________________________________________________\n",
      "conv2d_14 (Conv2D)              (None, 3, 3, 256)    294912      dropout_19[0][0]                 \n",
      "__________________________________________________________________________________________________\n",
      "batch_normalization_16 (BatchNo (None, 3, 3, 256)    1024        conv2d_14[0][0]                  \n",
      "__________________________________________________________________________________________________\n",
      "conv2d_15 (Conv2D)              (None, 3, 3, 256)    589824      batch_normalization_16[0][0]     \n",
      "__________________________________________________________________________________________________\n",
      "batch_normalization_17 (BatchNo (None, 3, 3, 256)    1024        conv2d_15[0][0]                  \n",
      "__________________________________________________________________________________________________\n",
      "global_average_pooling2d_9 (Glo (None, 256)          0           batch_normalization_17[0][0]     \n",
      "__________________________________________________________________________________________________\n",
      "reshape_9 (Reshape)             (None, 1, 256)       0           global_average_pooling2d_9[0][0] \n",
      "__________________________________________________________________________________________________\n",
      "dense_18 (Dense)                (None, 1, 16)        4096        reshape_9[0][0]                  \n",
      "__________________________________________________________________________________________________\n",
      "dense_19 (Dense)                (None, 1, 256)       4096        dense_18[0][0]                   \n",
      "__________________________________________________________________________________________________\n",
      "multiply_9 (Multiply)           (None, 3, 3, 256)    0           batch_normalization_17[0][0]     \n",
      "                                                                 dense_19[0][0]                   \n",
      "__________________________________________________________________________________________________\n",
      "add_9 (Add)                     (None, 3, 3, 256)    0           batch_normalization_16[0][0]     \n",
      "                                                                 multiply_9[0][0]                 \n",
      "__________________________________________________________________________________________________\n",
      "conv2d_16 (Conv2D)              (None, 3, 3, 256)    589824      add_9[0][0]                      \n",
      "__________________________________________________________________________________________________\n",
      "batch_normalization_18 (BatchNo (None, 3, 3, 256)    1024        conv2d_16[0][0]                  \n",
      "__________________________________________________________________________________________________\n",
      "global_average_pooling2d_10 (Gl (None, 256)          0           batch_normalization_18[0][0]     \n",
      "__________________________________________________________________________________________________\n",
      "reshape_10 (Reshape)            (None, 1, 256)       0           global_average_pooling2d_10[0][0]\n",
      "__________________________________________________________________________________________________\n",
      "dense_20 (Dense)                (None, 1, 16)        4096        reshape_10[0][0]                 \n",
      "__________________________________________________________________________________________________\n",
      "dense_21 (Dense)                (None, 1, 256)       4096        dense_20[0][0]                   \n",
      "__________________________________________________________________________________________________\n",
      "multiply_10 (Multiply)          (None, 3, 3, 256)    0           batch_normalization_18[0][0]     \n",
      "                                                                 dense_21[0][0]                   \n",
      "__________________________________________________________________________________________________\n",
      "input_2 (InputLayer)            (None, 1)            0                                            \n",
      "__________________________________________________________________________________________________\n",
      "add_10 (Add)                    (None, 3, 3, 256)    0           add_9[0][0]                      \n",
      "                                                                 multiply_10[0][0]                \n",
      "__________________________________________________________________________________________________\n",
      "batch_normalization_1 (BatchNor (None, 1)            4           input_2[0][0]                    \n",
      "__________________________________________________________________________________________________\n",
      "global_average_pooling2d_11 (Gl (None, 256)          0           add_10[0][0]                     \n",
      "__________________________________________________________________________________________________\n",
      "global_max_pooling2d_1 (GlobalM (None, 256)          0           add_10[0][0]                     \n",
      "__________________________________________________________________________________________________\n",
      "dense_1 (Dense)                 (None, 16)           32          batch_normalization_1[0][0]      \n",
      "__________________________________________________________________________________________________\n",
      "concatenate_1 (Concatenate)     (None, 512)          0           global_average_pooling2d_11[0][0]\n",
      "                                                                 global_max_pooling2d_1[0][0]     \n",
      "__________________________________________________________________________________________________\n",
      "batch_normalization_2 (BatchNor (None, 16)           64          dense_1[0][0]                    \n",
      "__________________________________________________________________________________________________\n",
      "concatenate_2 (Concatenate)     (None, 528)          0           concatenate_1[0][0]              \n",
      "                                                                 batch_normalization_2[0][0]      \n",
      "__________________________________________________________________________________________________\n",
      "dense_22 (Dense)                (None, 256)          135424      concatenate_2[0][0]              \n",
      "__________________________________________________________________________________________________\n",
      "batch_normalization_19 (BatchNo (None, 256)          1024        dense_22[0][0]                   \n",
      "__________________________________________________________________________________________________\n",
      "dense_23 (Dense)                (None, 1)            257         batch_normalization_19[0][0]     \n",
      "==================================================================================================\n",
      "Total params: 2,130,757\n",
      "Trainable params: 2,127,203\n",
      "Non-trainable params: 3,554\n",
      "__________________________________________________________________________________________________\n"
     ]
    }
   ],
   "source": [
    "model = build_model()\n",
    "model.summary()"
   ]
  },
  {
   "cell_type": "markdown",
   "metadata": {
    "heading_collapsed": true
   },
   "source": [
    "# 3. Train"
   ]
  },
  {
   "cell_type": "markdown",
   "metadata": {
    "heading_collapsed": true,
    "hidden": true
   },
   "source": [
    "## 3.1 Training functions"
   ]
  },
  {
   "cell_type": "code",
   "execution_count": 12,
   "metadata": {
    "hidden": true
   },
   "outputs": [],
   "source": [
    "class CycleLearner(keras.callbacks.Callback):\n",
    "    def __init__(self, lr, nb, n_cycle, cycle_len=1, cycle_mult=1):\n",
    "        super().__init__()\n",
    "        self.lr = lr\n",
    "        self.nb = nb*cycle_len\n",
    "        self.n_cycle = n_cycle\n",
    "        self.cycle_mult = cycle_mult\n",
    "        self.lr_log = []\n",
    "        self.losses = []\n",
    "        self.iterations = []\n",
    "\n",
    "    def on_train_begin(self, logs={}):\n",
    "        self.iteration,self.epoch = 0,0\n",
    "        self.cycle_iter,self.cycle_count=0,0\n",
    "        self.update_lr()\n",
    "\n",
    "    def on_epoch_end(self, epoch, logs=None):\n",
    "        self.epoch += 1\n",
    "\n",
    "    def on_batch_end(self, batch, logs={}):\n",
    "        self.iteration += 1\n",
    "        self.lr_log.append(K.eval(self.model.optimizer.lr))\n",
    "        loss = logs.get('loss')\n",
    "        self.losses.append(loss)\n",
    "        self.iterations.append(self.iteration)\n",
    "        self.update_lr()\n",
    "        if self.cycle_count == self.n_cycle:\n",
    "            self.model.stop_training = True\n",
    "    \n",
    "    def update_lr(self):\n",
    "        new_lr = self.calc_lr()\n",
    "        K.set_value(self.model.optimizer.lr, new_lr)\n",
    "\n",
    "    def calc_lr(self):\n",
    "        if self.iteration<self.nb/20:\n",
    "            self.cycle_iter += 1\n",
    "            return self.lr/100.\n",
    "\n",
    "        cos_out = np.cos(np.pi*(self.cycle_iter)/self.nb) + 1\n",
    "        self.cycle_iter += 1\n",
    "        if self.cycle_iter==self.nb:\n",
    "            self.cycle_iter = 0\n",
    "            self.nb *= self.cycle_mult\n",
    "            self.cycle_count += 1\n",
    "        return self.lr / 2 * cos_out        \n",
    "        \n",
    "    def plot_loss(self, skip=10):\n",
    "        plt.plot(self.iterations[skip:], self.losses[skip:])\n",
    "\n",
    "    def plot_lr(self):\n",
    "        plt.xlabel(\"iterations\")\n",
    "        plt.ylabel(\"learning rate\")\n",
    "        plt.plot(self.iterations, self.lr_log)\n",
    "\n",
    "def fit(model, learner, epochs=1000, verbose=1, val=SPLIT_VALIDATION):\n",
    "    global log\n",
    "    t0 = time()\n",
    "    h = model.fit(x_train, y_train, bs, epochs=epochs,\n",
    "                  validation_data=(x_val, y_val),\n",
    "                  callbacks=[learner], verbose=verbose)\n",
    "    if log is None:\n",
    "        log = h.history\n",
    "    else:\n",
    "        for k in h.history:\n",
    "            log[k] += h.history[k]\n",
    "    if val:\n",
    "        if len(log['loss']) != len(log['val_loss']):\n",
    "            loss, acc = model.evaluate(x_val, y_val, verbose=0)\n",
    "            log['val_loss'].append(loss)\n",
    "            log['val_acc'].append(acc)\n",
    "    \n",
    "    if verbose == 1: print('\\nDone! (%.2fs)' % (time()-t0))\n",
    "        \n",
    "def plot_train(skip=0, xlim=None, ylim=None):\n",
    "    fig, ax = plt.subplots(ncols=2, figsize=(14,5))\n",
    "    ax[0].plot(log['loss'][skip:], label='train')\n",
    "    if SPLIT_VALIDATION: ax[0].plot(log['val_loss'][skip:], label='val')\n",
    "    ax[0].set_title('loss')\n",
    "    if ylim is not None: ax[0].set_ylim(np.min(log['loss']), ylim)\n",
    "    if xlim is not None: ax[0].set_xlim(xlim)        \n",
    "    ax[1].plot(log['acc'][skip:], label='train')\n",
    "    if SPLIT_VALIDATION: ax[1].plot(log['val_acc'][skip:], label='val')\n",
    "    ax[1].set_title('accuracy')\n",
    "    for a in ax: a.legend()\n",
    "    plt.show()"
   ]
  },
  {
   "cell_type": "code",
   "execution_count": 13,
   "metadata": {
    "hidden": true
   },
   "outputs": [],
   "source": [
    "class LrFinder(keras.callbacks.Callback):\n",
    "    def __init__(self, nb, start_lr=1e-5, end_lr=10):\n",
    "        super().__init__()\n",
    "        self.start_lr = start_lr\n",
    "        self.lr = start_lr\n",
    "        self.lr_mult = (end_lr/start_lr)**(1/nb)\n",
    "        self.lr_log = []\n",
    "        self.losses = []\n",
    "        self.iterations = []\n",
    "        \n",
    "    def on_train_begin(self, logs={}):\n",
    "        self.best = 1e9\n",
    "        self.iteration = 0\n",
    "        self.update_lr()\n",
    "\n",
    "    def on_batch_end(self, batch, logs={}):\n",
    "        self.iteration += 1\n",
    "        self.lr_log.append(K.eval(self.model.optimizer.lr))\n",
    "        loss = logs.get('loss')\n",
    "        self.losses.append(loss)\n",
    "        self.iterations.append(self.iteration)\n",
    "\n",
    "        if math.isnan(loss) or loss>self.best*4:\n",
    "            self.model.stop_training = True\n",
    "        if loss<self.best:\n",
    "            self.best=loss\n",
    "        self.update_lr()\n",
    "    \n",
    "    def update_lr(self):\n",
    "        new_lr = self.start_lr * (self.lr_mult**self.iteration)\n",
    "        K.set_value(self.model.optimizer.lr, new_lr)\n",
    "        \n",
    "    def plot_loss(self):\n",
    "        plt.plot(self.iterations[10:], self.losses[10:])\n",
    "\n",
    "    def plot_lr(self):\n",
    "        plt.xlabel(\"iterations\")\n",
    "        plt.ylabel(\"learning rate\")\n",
    "        plt.plot(self.iterations, self.lr_log)\n",
    "        \n",
    "    def plot(self, n_skip_start=2, xlim=None, ylim=None):\n",
    "        plt.ylabel(\"loss\")\n",
    "        plt.xlabel(\"learning rate (log scale)\")\n",
    "        plt.plot(self.lr_log[n_skip_start:], self.losses[n_skip_start:])\n",
    "        plt.xscale('log')\n",
    "        if ylim is not None: plt.ylim(np.min(lr_finder.losses),ylim)\n",
    "        if xlim is not None: plt.xlim(right=xlim)\n",
    "        "
   ]
  },
  {
   "cell_type": "markdown",
   "metadata": {
    "heading_collapsed": true,
    "hidden": true
   },
   "source": [
    "## 3.2 Finding LR"
   ]
  },
  {
   "cell_type": "code",
   "execution_count": 94,
   "metadata": {
    "hidden": true
   },
   "outputs": [
    {
     "name": "stdout",
     "output_type": "stream",
     "text": [
      "Epoch 1/10\n",
      " 512/5136 [=>............................] - ETA: 29s - loss: 0.8536 - acc: 0.4707"
     ]
    },
    {
     "name": "stderr",
     "output_type": "stream",
     "text": [
      "/home/rhermoza/anaconda3/envs/ml/lib/python3.6/site-packages/keras/callbacks.py:116: UserWarning: Method on_batch_end() is slow compared to the batch update (0.552112). Check your callbacks.\n",
      "  % delta_t_median)\n"
     ]
    },
    {
     "name": "stdout",
     "output_type": "stream",
     "text": [
      "3584/5136 [===================>..........] - ETA: 2s - loss: 0.8486 - acc: 0.5812"
     ]
    },
    {
     "data": {
      "image/png": "[encoded data removed]",
      "text/plain": [
       "<matplotlib.figure.Figure at 0x7fc2c69aa940>"
      ]
     },
     "metadata": {},
     "output_type": "display_data"
    }
   ],
   "source": [
    "model = build_model()\n",
    "bn = math.ceil(len(y_train)/bs)\n",
    "lr_finder = LrFinder(bn)\n",
    "h = model.fit(x_train, y_train, bs, epochs=10, callbacks=[lr_finder])\n",
    "lr_finder.plot(ylim=0.9)"
   ]
  },
  {
   "cell_type": "code",
   "execution_count": 95,
   "metadata": {
    "hidden": true
   },
   "outputs": [],
   "source": [
    "lr = 1e-3"
   ]
  },
  {
   "cell_type": "markdown",
   "metadata": {
    "heading_collapsed": true,
    "hidden": true
   },
   "source": [
    "## 3.22 Bayesian optimization"
   ]
  },
  {
   "cell_type": "code",
   "execution_count": 14,
   "metadata": {
    "hidden": true
   },
   "outputs": [],
   "source": [
    "log = None\n",
    "def gp_objective(params):\n",
    "    K.clear_session()\n",
    "    lr, lr_decay, conv_d, cat_d = params\n",
    "    model = build_model(reg=lr_decay, conv_d=[conv_d], cat_d=[cat_d])\n",
    "    bn = math.ceil(len(y_train)/bs)\n",
    "    cycle_learner = CycleLearner(lr, bn, 4, cycle_mult=1)\n",
    "    fit(model, cycle_learner, verbose=0)\n",
    "    cycle_learner = CycleLearner(lr, bn, 3, cycle_mult=2)\n",
    "    fit(model, cycle_learner, verbose=0)\n",
    "    cycle_learner = CycleLearner(lr, bn, 2, cycle_len=4)\n",
    "    fit(model, cycle_learner, verbose=0)\n",
    "    return model.evaluate(x_val, y_val, verbose=0)[0]"
   ]
  },
  {
   "cell_type": "code",
   "execution_count": null,
   "metadata": {
    "hidden": true,
    "scrolled": true
   },
   "outputs": [
    {
     "name": "stdout",
     "output_type": "stream",
     "text": [
      "Iteration No: 1 started. Evaluating function at random point.\n",
      "Iteration No: 1 ended. Evaluation done at random point.\n",
      "Time taken: 50.1302\n",
      "Function value obtained: 0.3308\n",
      "Current minimum: 0.3308\n",
      "Iteration No: 2 started. Evaluating function at random point.\n",
      "Iteration No: 2 ended. Evaluation done at random point.\n",
      "Time taken: 43.1072\n",
      "Function value obtained: 0.3302\n",
      "Current minimum: 0.3302\n",
      "Iteration No: 3 started. Evaluating function at random point.\n",
      "Iteration No: 3 ended. Evaluation done at random point.\n",
      "Time taken: 43.2705\n",
      "Function value obtained: 0.2513\n",
      "Current minimum: 0.2513\n",
      "Iteration No: 4 started. Evaluating function at random point.\n",
      "Iteration No: 4 ended. Evaluation done at random point.\n",
      "Time taken: 43.0423\n",
      "Function value obtained: 0.5378\n",
      "Current minimum: 0.2513\n",
      "Iteration No: 5 started. Evaluating function at random point.\n",
      "Iteration No: 5 ended. Evaluation done at random point.\n",
      "Time taken: 43.3614\n",
      "Function value obtained: 0.8246\n",
      "Current minimum: 0.2513\n",
      "Iteration No: 6 started. Evaluating function at random point.\n",
      "Iteration No: 6 ended. Evaluation done at random point.\n",
      "Time taken: 43.3346\n",
      "Function value obtained: 0.3345\n",
      "Current minimum: 0.2513\n",
      "Iteration No: 7 started. Evaluating function at random point.\n",
      "Iteration No: 7 ended. Evaluation done at random point.\n",
      "Time taken: 43.4694\n",
      "Function value obtained: 0.5514\n",
      "Current minimum: 0.2513\n",
      "Iteration No: 8 started. Evaluating function at random point.\n",
      "Iteration No: 8 ended. Evaluation done at random point.\n",
      "Time taken: 43.9095\n",
      "Function value obtained: 0.3860\n",
      "Current minimum: 0.2513\n",
      "Iteration No: 9 started. Evaluating function at random point.\n",
      "Iteration No: 9 ended. Evaluation done at random point.\n",
      "Time taken: 43.5883\n",
      "Function value obtained: 0.7788\n",
      "Current minimum: 0.2513\n",
      "Iteration No: 10 started. Evaluating function at random point.\n",
      "Iteration No: 10 ended. Evaluation done at random point.\n",
      "Time taken: 44.4056\n",
      "Function value obtained: 0.7726\n",
      "Current minimum: 0.2513\n",
      "Iteration No: 11 started. Searching for the next optimal point.\n",
      "Iteration No: 11 ended. Search finished for the next optimal point.\n",
      "Time taken: 44.4022\n",
      "Function value obtained: 0.2607\n",
      "Current minimum: 0.2513\n",
      "Iteration No: 12 started. Searching for the next optimal point.\n",
      "Iteration No: 12 ended. Search finished for the next optimal point.\n",
      "Time taken: 43.9656\n",
      "Function value obtained: 0.2187\n",
      "Current minimum: 0.2187\n",
      "Iteration No: 13 started. Searching for the next optimal point.\n",
      "Iteration No: 13 ended. Search finished for the next optimal point.\n",
      "Time taken: 44.4169\n",
      "Function value obtained: 0.2919\n",
      "Current minimum: 0.2187\n",
      "Iteration No: 14 started. Searching for the next optimal point.\n",
      "Iteration No: 14 ended. Search finished for the next optimal point.\n",
      "Time taken: 44.1946\n",
      "Function value obtained: 0.3128\n",
      "Current minimum: 0.2187\n",
      "Iteration No: 15 started. Searching for the next optimal point.\n",
      "Iteration No: 15 ended. Search finished for the next optimal point.\n",
      "Time taken: 44.5141\n",
      "Function value obtained: 0.4434\n",
      "Current minimum: 0.2187\n",
      "Iteration No: 16 started. Searching for the next optimal point.\n",
      "Iteration No: 16 ended. Search finished for the next optimal point.\n",
      "Time taken: 44.4572\n",
      "Function value obtained: 0.3078\n",
      "Current minimum: 0.2187\n",
      "Iteration No: 17 started. Searching for the next optimal point.\n",
      "Iteration No: 17 ended. Search finished for the next optimal point.\n",
      "Time taken: 44.2704\n",
      "Function value obtained: 0.2406\n",
      "Current minimum: 0.2187\n",
      "Iteration No: 18 started. Searching for the next optimal point.\n",
      "Iteration No: 18 ended. Search finished for the next optimal point.\n",
      "Time taken: 44.3243\n",
      "Function value obtained: 0.2891\n",
      "Current minimum: 0.2187\n",
      "Iteration No: 19 started. Searching for the next optimal point.\n",
      "Iteration No: 19 ended. Search finished for the next optimal point.\n",
      "Time taken: 44.5355\n",
      "Function value obtained: 0.2411\n",
      "Current minimum: 0.2187\n",
      "Iteration No: 20 started. Searching for the next optimal point.\n",
      "Iteration No: 20 ended. Search finished for the next optimal point.\n",
      "Time taken: 44.6540\n",
      "Function value obtained: 1.2063\n",
      "Current minimum: 0.2187\n",
      "Iteration No: 21 started. Searching for the next optimal point.\n",
      "Iteration No: 21 ended. Search finished for the next optimal point.\n",
      "Time taken: 44.8423\n",
      "Function value obtained: 0.3480\n",
      "Current minimum: 0.2187\n",
      "Iteration No: 22 started. Searching for the next optimal point.\n",
      "Iteration No: 22 ended. Search finished for the next optimal point.\n",
      "Time taken: 44.5416\n",
      "Function value obtained: 0.2425\n",
      "Current minimum: 0.2187\n",
      "Iteration No: 23 started. Searching for the next optimal point.\n",
      "Iteration No: 23 ended. Search finished for the next optimal point.\n",
      "Time taken: 44.5592\n",
      "Function value obtained: 0.3675\n",
      "Current minimum: 0.2187\n",
      "Iteration No: 24 started. Searching for the next optimal point.\n",
      "Iteration No: 24 ended. Search finished for the next optimal point.\n",
      "Time taken: 44.1795\n",
      "Function value obtained: 0.2345\n",
      "Current minimum: 0.2187\n",
      "Iteration No: 25 started. Searching for the next optimal point.\n",
      "Iteration No: 25 ended. Search finished for the next optimal point.\n",
      "Time taken: 44.3549\n",
      "Function value obtained: 0.2531\n",
      "Current minimum: 0.2187\n",
      "Iteration No: 26 started. Searching for the next optimal point.\n",
      "Iteration No: 26 ended. Search finished for the next optimal point.\n",
      "Time taken: 40.8924\n",
      "Function value obtained: 0.8240\n",
      "Current minimum: 0.2187\n",
      "Iteration No: 27 started. Searching for the next optimal point.\n",
      "Iteration No: 27 ended. Search finished for the next optimal point.\n",
      "Time taken: 44.7207\n",
      "Function value obtained: 0.2775\n",
      "Current minimum: 0.2187\n",
      "Iteration No: 28 started. Searching for the next optimal point.\n",
      "Iteration No: 28 ended. Search finished for the next optimal point.\n",
      "Time taken: 44.7901\n",
      "Function value obtained: 0.2481\n",
      "Current minimum: 0.2187\n",
      "Iteration No: 29 started. Searching for the next optimal point.\n",
      "Iteration No: 29 ended. Search finished for the next optimal point.\n",
      "Time taken: 44.5832\n",
      "Function value obtained: 0.2597\n",
      "Current minimum: 0.2187\n",
      "Iteration No: 30 started. Searching for the next optimal point.\n",
      "Iteration No: 30 ended. Search finished for the next optimal point.\n",
      "Time taken: 44.6947\n",
      "Function value obtained: 0.2152\n",
      "Current minimum: 0.2152\n",
      "Iteration No: 31 started. Searching for the next optimal point.\n",
      "Iteration No: 31 ended. Search finished for the next optimal point.\n",
      "Time taken: 44.6056\n",
      "Function value obtained: 0.3145\n",
      "Current minimum: 0.2152\n",
      "Iteration No: 32 started. Searching for the next optimal point.\n",
      "Iteration No: 32 ended. Search finished for the next optimal point.\n",
      "Time taken: 44.6910\n",
      "Function value obtained: 0.2669\n",
      "Current minimum: 0.2152\n",
      "Iteration No: 33 started. Searching for the next optimal point.\n",
      "Iteration No: 33 ended. Search finished for the next optimal point.\n",
      "Time taken: 44.9487\n",
      "Function value obtained: 0.2182\n",
      "Current minimum: 0.2152\n",
      "Iteration No: 34 started. Searching for the next optimal point.\n",
      "Iteration No: 34 ended. Search finished for the next optimal point.\n",
      "Time taken: 44.4853\n",
      "Function value obtained: 0.3949\n",
      "Current minimum: 0.2152\n",
      "Iteration No: 35 started. Searching for the next optimal point.\n",
      "Iteration No: 35 ended. Search finished for the next optimal point.\n",
      "Time taken: 44.3959\n",
      "Function value obtained: 0.2892\n",
      "Current minimum: 0.2152\n",
      "Iteration No: 36 started. Searching for the next optimal point.\n",
      "Iteration No: 36 ended. Search finished for the next optimal point.\n",
      "Time taken: 44.9617\n",
      "Function value obtained: 0.2591\n",
      "Current minimum: 0.2152\n",
      "Iteration No: 37 started. Searching for the next optimal point.\n",
      "Iteration No: 37 ended. Search finished for the next optimal point.\n",
      "Time taken: 44.6086\n",
      "Function value obtained: 0.5840\n",
      "Current minimum: 0.2152\n",
      "Iteration No: 38 started. Searching for the next optimal point.\n",
      "Iteration No: 38 ended. Search finished for the next optimal point.\n",
      "Time taken: 44.7817\n",
      "Function value obtained: 0.2688\n",
      "Current minimum: 0.2152\n",
      "Iteration No: 39 started. Searching for the next optimal point.\n",
      "Iteration No: 39 ended. Search finished for the next optimal point.\n",
      "Time taken: 44.5686\n",
      "Function value obtained: 0.2981\n",
      "Current minimum: 0.2152\n",
      "Iteration No: 40 started. Searching for the next optimal point.\n",
      "Iteration No: 40 ended. Search finished for the next optimal point.\n",
      "Time taken: 44.4750\n",
      "Function value obtained: 0.2654\n",
      "Current minimum: 0.2152\n",
      "Iteration No: 41 started. Searching for the next optimal point.\n"
     ]
    },
    {
     "name": "stdout",
     "output_type": "stream",
     "text": [
      "Iteration No: 41 ended. Search finished for the next optimal point.\n",
      "Time taken: 44.7339\n",
      "Function value obtained: 0.2741\n",
      "Current minimum: 0.2152\n",
      "Iteration No: 42 started. Searching for the next optimal point.\n",
      "Iteration No: 42 ended. Search finished for the next optimal point.\n",
      "Time taken: 44.5934\n",
      "Function value obtained: 0.2633\n",
      "Current minimum: 0.2152\n",
      "Iteration No: 43 started. Searching for the next optimal point.\n"
     ]
    }
   ],
   "source": [
    "# lr, w_decay\n",
    "space  = [(1e-4, 5e-2, 'log-uniform'),\n",
    "          (1e-7, 1e-4, 'log-uniform'),\n",
    "          (0.0,0.8),\n",
    "          (0.0,0.8)]\n",
    "\n",
    "res_gp = gp_minimize(gp_objective, space, n_random_starts=10, n_calls=100, random_state=0, verbose=True)\n",
    "print('Best score=%.4f' % res_gp.fun)"
   ]
  },
  {
   "cell_type": "code",
   "execution_count": 17,
   "metadata": {
    "hidden": true
   },
   "outputs": [
    {
     "name": "stdout",
     "output_type": "stream",
     "text": [
      "best parameters:\n",
      "{'lr': 0.023137097728452235, 'w_decay': 9.9999999999999995e-08, 'conv_d': 0.62795539944127421, 'cat_d': 0.62657845998036055}\n"
     ]
    }
   ],
   "source": [
    "best_params = {i:j for i,j in zip(['lr', 'w_decay', 'conv_d', 'cat_d'], res_gp.x)}\n",
    "print('best parameters:')\n",
    "print(best_params)"
   ]
  },
  {
   "cell_type": "code",
   "execution_count": 19,
   "metadata": {
    "hidden": true
   },
   "outputs": [
    {
     "data": {
      "image/png": "[encoded data removed]",
      "text/plain": [
       "<matplotlib.figure.Figure at 0x7ff333401e80>"
      ]
     },
     "metadata": {},
     "output_type": "display_data"
    },
    {
     "data": {
      "image/png": "[encoded data removed]",
      "text/plain": [
       "<matplotlib.figure.Figure at 0x7ff333401438>"
      ]
     },
     "metadata": {},
     "output_type": "display_data"
    },
    {
     "data": {
      "image/png": "[encoded data removed]",
      "text/plain": [
       "<matplotlib.figure.Figure at 0x7ff332fa7d30>"
      ]
     },
     "metadata": {},
     "output_type": "display_data"
    }
   ],
   "source": [
    "plot_convergence(res_gp)\n",
    "plot_evaluations(res_gp)\n",
    "plot_objective(res_gp);"
   ]
  },
  {
   "cell_type": "markdown",
   "metadata": {
    "heading_collapsed": true,
    "hidden": true
   },
   "source": [
    "## 3.3 TRAIN!"
   ]
  },
  {
   "cell_type": "code",
   "execution_count": 103,
   "metadata": {
    "hidden": true
   },
   "outputs": [
    {
     "data": {
      "text/plain": [
       "{'cat_d': 0.62657845998036055,\n",
       " 'conv_d': 0.62795539944127421,\n",
       " 'lr': 0.023137097728452235,\n",
       " 'w_decay': 9.9999999999999995e-08}"
      ]
     },
     "execution_count": 103,
     "metadata": {},
     "output_type": "execute_result"
    }
   ],
   "source": [
    "# best_params = {'lr': 0.023137097728452235, 'w_decay': 9.9999999999999995e-08, 'conv_d': 0.62795539944127421, 'cat_d': 0.62657845998036055}\n",
    "best_params"
   ]
  },
  {
   "cell_type": "code",
   "execution_count": 104,
   "metadata": {
    "hidden": true
   },
   "outputs": [],
   "source": [
    "def eval_model(val=SPLIT_VALIDATION):\n",
    "    n = len(y_train)//4\n",
    "    result_train = model.evaluate([x[:n] for x in x_train], y_train[:n], bs)\n",
    "    print(f'Train -> loss: %.6f, acc : %.4f' % (result_train[0], result_train[1]))\n",
    "    if val:\n",
    "        result_val = model.evaluate(x_val, y_val, bs)\n",
    "        print(f'Val   -> loss: %.6f, acc : %.4f' % (result_val[0], result_val[1]))"
   ]
  },
  {
   "cell_type": "code",
   "execution_count": 105,
   "metadata": {
    "hidden": true
   },
   "outputs": [
    {
     "name": "stdout",
     "output_type": "stream",
     "text": [
      "Train on 6412 samples, validate on 1 samples\n",
      "Epoch 1/1000\n",
      "6412/6412 [==============================] - 3s 533us/step - loss: 0.6291 - acc: 0.6733 - val_loss: 16.1189 - val_acc: 0.0000e+00\n",
      "Epoch 2/1000\n",
      "6412/6412 [==============================] - 2s 360us/step - loss: 0.5826 - acc: 0.7048 - val_loss: 16.1194 - val_acc: 0.0000e+00\n",
      "Epoch 3/1000\n",
      "6412/6412 [==============================] - 2s 360us/step - loss: 0.6239 - acc: 0.6433 - val_loss: 2.9004 - val_acc: 0.0000e+00\n",
      "Epoch 4/1000\n",
      "6400/6412 [============================>.] - ETA: 0s - loss: 0.6013 - acc: 0.6744\n",
      "Done! (14.57s)\n",
      "1603/1603 [==============================] - 0s 132us/step\n",
      "Train -> loss: 1.999743, acc : 0.6251\n"
     ]
    }
   ],
   "source": [
    "K.clear_session()\n",
    "model = build_model(reg=best_params['w_decay'], conv_d=[best_params['conv_d']], cat_d=[best_params['cat_d']])\n",
    "bn = math.ceil(len(y_train)/bs)\n",
    "cycle_learner = CycleLearner(best_params['lr'], bn, 4, cycle_mult=1)\n",
    "log = None\n",
    "\n",
    "fit(model, cycle_learner)\n",
    "eval_model()"
   ]
  },
  {
   "cell_type": "code",
   "execution_count": 106,
   "metadata": {
    "hidden": true
   },
   "outputs": [
    {
     "name": "stdout",
     "output_type": "stream",
     "text": [
      "Train on 6412 samples, validate on 1 samples\n",
      "Epoch 1/1000\n",
      "6412/6412 [==============================] - 2s 361us/step - loss: 0.5316 - acc: 0.7318 - val_loss: 0.6107 - val_acc: 1.0000\n",
      "Epoch 2/1000\n",
      "6412/6412 [==============================] - 2s 360us/step - loss: 0.4781 - acc: 0.7633 - val_loss: 1.6053 - val_acc: 0.0000e+00\n",
      "Epoch 3/1000\n",
      "6412/6412 [==============================] - 2s 361us/step - loss: 0.3689 - acc: 0.8303 - val_loss: 0.3757 - val_acc: 1.0000\n",
      "Epoch 4/1000\n",
      "6412/6412 [==============================] - 2s 362us/step - loss: 0.3834 - acc: 0.8203 - val_loss: 3.1773 - val_acc: 0.0000e+00\n",
      "Epoch 5/1000\n",
      "6412/6412 [==============================] - 2s 362us/step - loss: 0.3246 - acc: 0.8498 - val_loss: 6.4435 - val_acc: 0.0000e+00\n",
      "Epoch 6/1000\n",
      "6412/6412 [==============================] - 2s 362us/step - loss: 0.2797 - acc: 0.8821 - val_loss: 0.0120 - val_acc: 1.0000\n",
      "Epoch 7/1000\n",
      "6400/6412 [============================>.] - ETA: 0s - loss: 0.2462 - acc: 0.8964\n",
      "Done! (16.21s)\n",
      "1603/1603 [==============================] - 0s 116us/step\n",
      "Train -> loss: 0.239517, acc : 0.8996\n"
     ]
    }
   ],
   "source": [
    "cycle_learner = CycleLearner(best_params['lr'], bn, 3,  cycle_mult=2)\n",
    "fit(model, cycle_learner)\n",
    "eval_model()"
   ]
  },
  {
   "cell_type": "code",
   "execution_count": 107,
   "metadata": {
    "hidden": true
   },
   "outputs": [
    {
     "name": "stdout",
     "output_type": "stream",
     "text": [
      "Train on 6412 samples, validate on 1 samples\n",
      "Epoch 1/1000\n",
      "6412/6412 [==============================] - 2s 362us/step - loss: 0.3047 - acc: 0.8638 - val_loss: 0.0314 - val_acc: 1.0000\n",
      "Epoch 2/1000\n",
      "6412/6412 [==============================] - 2s 363us/step - loss: 0.2823 - acc: 0.8784 - val_loss: 0.0074 - val_acc: 1.0000\n",
      "Epoch 3/1000\n",
      "6412/6412 [==============================] - 2s 363us/step - loss: 0.2508 - acc: 0.8980 - val_loss: 0.8492 - val_acc: 0.0000e+00\n",
      "Epoch 4/1000\n",
      "6412/6412 [==============================] - 2s 362us/step - loss: 0.2292 - acc: 0.9111 - val_loss: 0.0419 - val_acc: 1.0000\n",
      "Epoch 5/1000\n",
      "6412/6412 [==============================] - 2s 363us/step - loss: 0.2782 - acc: 0.8815 - val_loss: 1.4906 - val_acc: 0.0000e+00\n",
      "Epoch 6/1000\n",
      "6412/6412 [==============================] - 2s 363us/step - loss: 0.2568 - acc: 0.8893 - val_loss: 0.0124 - val_acc: 1.0000\n",
      "Epoch 7/1000\n",
      "6412/6412 [==============================] - 2s 362us/step - loss: 0.2198 - acc: 0.9117 - val_loss: 0.0266 - val_acc: 1.0000\n",
      "Epoch 8/1000\n",
      "6412/6412 [==============================] - 2s 364us/step - loss: 0.2060 - acc: 0.9212 - val_loss: 0.0368 - val_acc: 1.0000\n",
      "Epoch 9/1000\n",
      "6412/6412 [==============================] - 2s 364us/step - loss: 0.2551 - acc: 0.8964 - val_loss: 0.0092 - val_acc: 1.0000\n",
      "Epoch 10/1000\n",
      "6412/6412 [==============================] - 2s 364us/step - loss: 0.2357 - acc: 0.9056 - val_loss: 0.4441 - val_acc: 1.0000\n",
      "Epoch 11/1000\n",
      "6412/6412 [==============================] - 2s 364us/step - loss: 0.2191 - acc: 0.9150 - val_loss: 0.4239 - val_acc: 1.0000\n",
      "Epoch 12/1000\n",
      "6412/6412 [==============================] - 2s 363us/step - loss: 0.1990 - acc: 0.9208 - val_loss: 0.0542 - val_acc: 1.0000\n",
      "Epoch 13/1000\n",
      "6412/6412 [==============================] - 2s 364us/step - loss: 0.2434 - acc: 0.9053 - val_loss: 0.2436 - val_acc: 1.0000\n",
      "Epoch 14/1000\n",
      "6412/6412 [==============================] - 2s 364us/step - loss: 0.2306 - acc: 0.9070 - val_loss: 0.0111 - val_acc: 1.0000\n",
      "Epoch 15/1000\n",
      "6412/6412 [==============================] - 2s 363us/step - loss: 0.2021 - acc: 0.9186 - val_loss: 0.0924 - val_acc: 1.0000\n",
      "Epoch 16/1000\n",
      "6400/6412 [============================>.] - ETA: 0s - loss: 0.1879 - acc: 0.9298\n",
      "Done! (37.26s)\n",
      "1603/1603 [==============================] - 0s 117us/step\n",
      "Train -> loss: 0.157419, acc : 0.9395\n"
     ]
    }
   ],
   "source": [
    "cycle_learner = CycleLearner(best_params['lr'], bn, 4, cycle_len=4)\n",
    "fit(model, cycle_learner)\n",
    "eval_model()"
   ]
  },
  {
   "cell_type": "code",
   "execution_count": 108,
   "metadata": {
    "hidden": true
   },
   "outputs": [
    {
     "data": {
      "image/png": "[encoded data removed]",
      "text/plain": [
       "<matplotlib.figure.Figure at 0x7ff2dc40fd68>"
      ]
     },
     "metadata": {},
     "output_type": "display_data"
    }
   ],
   "source": [
    "plot_train(ylim=1.2)"
   ]
  },
  {
   "cell_type": "code",
   "execution_count": 109,
   "metadata": {
    "hidden": true
   },
   "outputs": [
    {
     "name": "stdout",
     "output_type": "stream",
     "text": [
      "1603/1603 [==============================] - 0s 118us/step\n",
      "Train -> loss: 0.157419, acc : 0.9395\n"
     ]
    }
   ],
   "source": [
    "eval_model()"
   ]
  },
  {
   "cell_type": "markdown",
   "metadata": {
    "heading_collapsed": true,
    "hidden": true
   },
   "source": [
    "## 3.4 Save weights"
   ]
  },
  {
   "cell_type": "code",
   "execution_count": 88,
   "metadata": {
    "hidden": true
   },
   "outputs": [],
   "source": [
    "model.load_weights('data/model.h5')"
   ]
  },
  {
   "cell_type": "code",
   "execution_count": 110,
   "metadata": {
    "hidden": true
   },
   "outputs": [],
   "source": [
    "model.save_weights('data/model.h5')"
   ]
  },
  {
   "cell_type": "code",
   "execution_count": 111,
   "metadata": {
    "hidden": true
   },
   "outputs": [
    {
     "name": "stdout",
     "output_type": "stream",
     "text": [
      "total 8.4M\r\n",
      "-rw-rw-r-- 1 rhermoza rhermoza 8.4M Dec 17 21:21 model.h5\r\n"
     ]
    }
   ],
   "source": [
    "!ls -lh data"
   ]
  },
  {
   "cell_type": "markdown",
   "metadata": {
    "heading_collapsed": true
   },
   "source": [
    "# 4. Run on test set"
   ]
  },
  {
   "cell_type": "code",
   "execution_count": 112,
   "metadata": {
    "hidden": true
   },
   "outputs": [],
   "source": [
    "# load test data\n",
    "test_data = np.load(path+'test.npy').item()\n",
    "x_test_a = preprocess(test_data['x_imgs'])\n",
    "x_test = [x_test_a, test_data['x_angle']]"
   ]
  },
  {
   "cell_type": "code",
   "execution_count": 113,
   "metadata": {
    "hidden": true
   },
   "outputs": [
    {
     "name": "stdout",
     "output_type": "stream",
     "text": [
      "8424/8424 [==============================] - 1s 155us/step\n"
     ]
    }
   ],
   "source": [
    "y_ = model.predict(x_test, bs, 1)"
   ]
  },
  {
   "cell_type": "code",
   "execution_count": 114,
   "metadata": {
    "hidden": true
   },
   "outputs": [
    {
     "data": {
      "text/html": [
       "<div>\n",
       "<style scoped>\n",
       "    .dataframe tbody tr th:only-of-type {\n",
       "        vertical-align: middle;\n",
       "    }\n",
       "\n",
       "    .dataframe tbody tr th {\n",
       "        vertical-align: top;\n",
       "    }\n",
       "\n",
       "    .dataframe thead th {\n",
       "        text-align: right;\n",
       "    }\n",
       "</style>\n",
       "<table border=\"1\" class=\"dataframe\">\n",
       "  <thead>\n",
       "    <tr style=\"text-align: right;\">\n",
       "      <th></th>\n",
       "      <th>id</th>\n",
       "      <th>is_iceberg</th>\n",
       "    </tr>\n",
       "  </thead>\n",
       "  <tbody>\n",
       "    <tr>\n",
       "      <th>0</th>\n",
       "      <td>5941774d</td>\n",
       "      <td>0.038290</td>\n",
       "    </tr>\n",
       "    <tr>\n",
       "      <th>1</th>\n",
       "      <td>4023181e</td>\n",
       "      <td>0.106098</td>\n",
       "    </tr>\n",
       "    <tr>\n",
       "      <th>2</th>\n",
       "      <td>b20200e4</td>\n",
       "      <td>0.107162</td>\n",
       "    </tr>\n",
       "    <tr>\n",
       "      <th>3</th>\n",
       "      <td>e7f018bb</td>\n",
       "      <td>0.998000</td>\n",
       "    </tr>\n",
       "    <tr>\n",
       "      <th>4</th>\n",
       "      <td>4371c8c3</td>\n",
       "      <td>0.070532</td>\n",
       "    </tr>\n",
       "  </tbody>\n",
       "</table>\n",
       "</div>"
      ],
      "text/plain": [
       "         id  is_iceberg\n",
       "0  5941774d    0.038290\n",
       "1  4023181e    0.106098\n",
       "2  b20200e4    0.107162\n",
       "3  e7f018bb    0.998000\n",
       "4  4371c8c3    0.070532"
      ]
     },
     "metadata": {},
     "output_type": "display_data"
    },
    {
     "data": {
      "text/html": [
       "<a href='data/submission.csv' target='_blank'>data/submission.csv</a><br>"
      ],
      "text/plain": [
       "/home/rhermoza/github/kaggle-statoil/data/submission.csv"
      ]
     },
     "execution_count": 114,
     "metadata": {},
     "output_type": "execute_result"
    }
   ],
   "source": [
    "import pandas as pd\n",
    "\n",
    "df = pd.DataFrame({'id': test_data['ids'], 'is_iceberg':y_.flatten()})\n",
    "df.to_csv('data/submission.csv', index=False)\n",
    "\n",
    "from IPython.display import FileLink, display\n",
    "display(df.head())\n",
    "FileLink('data/submission.csv')"
   ]
  }
 ],
 "metadata": {
  "kernelspec": {
   "display_name": "Python 3",
   "language": "python",
   "name": "python3"
  },
  "language_info": {
   "codemirror_mode": {
    "name": "ipython",
    "version": 3
   },
   "file_extension": ".py",
   "mimetype": "text/x-python",
   "name": "python",
   "nbconvert_exporter": "python",
   "pygments_lexer": "ipython3",
   "version": "3.6.3"
  }
 },
 "nbformat": 4,
 "nbformat_minor": 2
}
